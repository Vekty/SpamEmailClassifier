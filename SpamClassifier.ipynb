{
 "cells": [
  {
   "cell_type": "code",
   "execution_count": 2,
   "id": "d70c22c2-4300-49f9-8404-44fa71b63a33",
   "metadata": {},
   "outputs": [],
   "source": [
    "from matplotlib import pyplot as plt\n",
    "import pandas as pd\n",
    "import numpy as np\n",
    "import scipy as sp\n",
    "import os\n",
    "from email import parser\n",
    "from email import policy\n",
    "from sklearn.model_selection import train_test_split\n",
    "\n",
    "import email\n",
    "\n",
    "training_data_path='/home/victor/Documents/SpamClassifier/training_data'\n",
    "training_spam_path=os.path.join(training_data_path,'spam')\n",
    "training_ham_path=os.path.join(training_data_path,'ham')\n",
    "\n",
    "def read_email(type_:str='spam',file_name:str=None):\n",
    "    path=training_spam_path\n",
    "    if type_=='ham':\n",
    "        path=training_ham_path\n",
    "    with open(os.path.join(path,file_name),'rb') as f:\n",
    "        return parser.BytesParser(policy=policy.default).parse(f)\n",
    "ham_names = [name for name in sorted(os.listdir(training_ham_path))]   #list of file names\n",
    "spam_names = [name for name in sorted(os.listdir(training_spam_path))]\n",
    "\n",
    "spam_emails=[read_email('spam',name) for name in spam_names]  #list of email instances\n",
    "ham_emails=[read_email('ham',name) for name in ham_names]\n",
    "\n",
    "X=np.array(ham_emails+spam_emails,dtype=object)\n",
    "y= np.array([0] * len(ham_emails) + [1] * len(spam_emails))\n",
    "\n",
    "X_train,X_test,y_train,y_test=train_test_split(X,y,test_size=0.2,random_state=42)\n"
   ]
  },
  {
   "cell_type": "code",
   "execution_count": 9,
   "id": "97a24f90-339f-4f9a-b366-b606298e105f",
   "metadata": {},
   "outputs": [],
   "source": [
    "label='Spam/Ham'\n",
    "def type_of_content(x):\n",
    "    if x is None:\n",
    "        return 'None'\n",
    "    \n",
    "    x_lower = x.lower()\n",
    "    \n",
    "    if 'html' in x_lower:\n",
    "        return 'HTML'\n",
    "    elif 'multipart' in x_lower:\n",
    "        return 'multipart'\n",
    "    else:\n",
    "        return 'plain'\n",
    "\n",
    "is_it_response=(lambda x: 1 if 'Re' in x else 0) #change\n",
    "\n",
    "responses=[is_it_response(x['subject']) for x in X_train]\n",
    "is_html=[type_of_content(x['content-type']) for x in X_train]\n",
    "\n",
    "\n",
    "dict_={'Response':responses,'Content_Type':is_html,label:y_train}\n",
    "df=pd.DataFrame(dict_)"
   ]
  },
  {
   "cell_type": "code",
   "execution_count": 10,
   "id": "85a24107-3ea5-436d-b71a-04117c936999",
   "metadata": {},
   "outputs": [],
   "source": [
    "from collections import Counter\n",
    "counter=Counter()\n"
   ]
  },
  {
   "cell_type": "code",
   "execution_count": null,
   "id": "0ea195eb-d24d-4f28-82a9-9dc7c6d1e279",
   "metadata": {},
   "outputs": [],
   "source": []
  }
 ],
 "metadata": {
  "kernelspec": {
   "display_name": "Python 3 (ipykernel)",
   "language": "python",
   "name": "python3"
  },
  "language_info": {
   "codemirror_mode": {
    "name": "ipython",
    "version": 3
   },
   "file_extension": ".py",
   "mimetype": "text/x-python",
   "name": "python",
   "nbconvert_exporter": "python",
   "pygments_lexer": "ipython3",
   "version": "3.11.2"
  }
 },
 "nbformat": 4,
 "nbformat_minor": 5
}
